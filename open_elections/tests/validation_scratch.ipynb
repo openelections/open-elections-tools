{
 "cells": [
  {
   "cell_type": "code",
   "execution_count": 1,
   "metadata": {
    "collapsed": true,
    "pycharm": {
     "is_executing": false
    }
   },
   "outputs": [],
   "source": [
    "# Import the reporting tools for the shared nationwide voting data\n",
    "import open_elections.logging as oe_logging, logging\n",
    "oe_logging.LOG_LEVEL = logging.ERROR\n",
    "from open_elections.load_shared_voting_data import pre_clean_integrity_report, post_clean_integrity_report"
   ]
  },
  {
   "cell_type": "code",
   "execution_count": 2,
   "outputs": [],
   "source": [
    "# Grab issues parsing files and with data that has not been cleaned, this informs us what state specific functions\n",
    "# need to be implemented to make the data valid\n",
    "file_issues, data_issues = pre_clean_integrity_report('ca')"
   ],
   "metadata": {
    "collapsed": false,
    "pycharm": {
     "name": "#%%\n",
     "is_executing": false
    }
   }
  },
  {
   "cell_type": "code",
   "execution_count": 3,
   "outputs": [
    {
     "name": "stdout",
     "text": [
      "        0\n",
      "0    None\n",
      "1    None\n",
      "2    None\n",
      "3    None\n",
      "4    None\n",
      "..    ...\n",
      "301  None\n",
      "302  None\n",
      "303  None\n",
      "304  None\n",
      "305  None\n",
      "\n",
      "[306 rows x 1 columns]\n"
     ],
     "output_type": "stream"
    }
   ],
   "source": [
    "print(file_issues)"
   ],
   "metadata": {
    "collapsed": false,
    "pycharm": {
     "name": "#%%\n",
     "is_executing": false
    }
   }
  },
  {
   "cell_type": "code",
   "execution_count": 4,
   "outputs": [
    {
     "name": "stdout",
     "text": [
      "   state                                           filename  line_number  \\\n",
      "0     ca  /Users/oscarbatori/Documents/open-elections/op...       4065.0   \n",
      "1     ca  /Users/oscarbatori/Documents/open-elections/op...       4066.0   \n",
      "2     ca  /Users/oscarbatori/Documents/open-elections/op...       4191.0   \n",
      "3     ca  /Users/oscarbatori/Documents/open-elections/op...       4192.0   \n",
      "4     ca  /Users/oscarbatori/Documents/open-elections/op...       4389.0   \n",
      "5     ca  /Users/oscarbatori/Documents/open-elections/op...       4390.0   \n",
      "6     ca  /Users/oscarbatori/Documents/open-elections/op...       4587.0   \n",
      "7     ca  /Users/oscarbatori/Documents/open-elections/op...       4588.0   \n",
      "0     ca  /Users/oscarbatori/Documents/open-elections/op...        438.0   \n",
      "1     ca  /Users/oscarbatori/Documents/open-elections/op...        443.0   \n",
      "2     ca  /Users/oscarbatori/Documents/open-elections/op...        680.0   \n",
      "3     ca  /Users/oscarbatori/Documents/open-elections/op...       1333.0   \n",
      "4     ca  /Users/oscarbatori/Documents/open-elections/op...       1396.0   \n",
      "5     ca  /Users/oscarbatori/Documents/open-elections/op...       1691.0   \n",
      "6     ca  /Users/oscarbatori/Documents/open-elections/op...       2112.0   \n",
      "7     ca  /Users/oscarbatori/Documents/open-elections/op...       2228.0   \n",
      "8     ca  /Users/oscarbatori/Documents/open-elections/op...       2470.0   \n",
      "9     ca  /Users/oscarbatori/Documents/open-elections/op...       2828.0   \n",
      "10    ca  /Users/oscarbatori/Documents/open-elections/op...       3123.0   \n",
      "11    ca  /Users/oscarbatori/Documents/open-elections/op...       3186.0   \n",
      "12    ca  /Users/oscarbatori/Documents/open-elections/op...       3302.0   \n",
      "13    ca  /Users/oscarbatori/Documents/open-elections/op...       3544.0   \n",
      "14    ca  /Users/oscarbatori/Documents/open-elections/op...       3660.0   \n",
      "15    ca  /Users/oscarbatori/Documents/open-elections/op...       3902.0   \n",
      "\n",
      "   column_name present type_check value  \n",
      "0        votes    True      False     X  \n",
      "1        votes    True      False     X  \n",
      "2        votes    True      False     X  \n",
      "3        votes    True      False     X  \n",
      "4        votes    True      False     X  \n",
      "5        votes    True      False     X  \n",
      "6        votes    True      False     X  \n",
      "7        votes    True      False     X  \n",
      "0        votes    True      False     -  \n",
      "1        votes    True      False     -  \n",
      "2        votes    True      False     -  \n",
      "3        votes    True      False     -  \n",
      "4        votes    True      False     -  \n",
      "5        votes    True      False     -  \n",
      "6        votes    True      False     -  \n",
      "7        votes    True      False     -  \n",
      "8        votes    True      False     -  \n",
      "9        votes    True      False     -  \n",
      "10       votes    True      False     -  \n",
      "11       votes    True      False     -  \n",
      "12       votes    True      False     -  \n",
      "13       votes    True      False     -  \n",
      "14       votes    True      False     -  \n",
      "15       votes    True      False     -  \n"
     ],
     "output_type": "stream"
    }
   ],
   "source": [
    "print(data_issues)"
   ],
   "metadata": {
    "collapsed": false,
    "pycharm": {
     "name": "#%%\n",
     "is_executing": false
    }
   }
  },
  {
   "cell_type": "code",
   "execution_count": 5,
   "outputs": [
    {
     "name": "stdout",
     "text": [
      "Empty DataFrame\n",
      "Columns: [state, filename]\n",
      "Index: []\n"
     ],
     "output_type": "stream"
    }
   ],
   "source": [
    "# Repeat the checking process applying the state specific cleaners, and validate that all data type checks\n",
    "post_clean_issues = post_clean_integrity_report('ca')\n",
    "print(post_clean_issues)"
   ],
   "metadata": {
    "collapsed": false,
    "pycharm": {
     "name": "#%%\n",
     "is_executing": false
    }
   }
  }
 ],
 "metadata": {
  "kernelspec": {
   "display_name": "Python 3",
   "language": "python",
   "name": "python3"
  },
  "language_info": {
   "codemirror_mode": {
    "name": "ipython",
    "version": 2
   },
   "file_extension": ".py",
   "mimetype": "text/x-python",
   "name": "python",
   "nbconvert_exporter": "python",
   "pygments_lexer": "ipython2",
   "version": "2.7.6"
  },
  "pycharm": {
   "stem_cell": {
    "cell_type": "raw",
    "source": [],
    "metadata": {
     "collapsed": false
    }
   }
  }
 },
 "nbformat": 4,
 "nbformat_minor": 0
}